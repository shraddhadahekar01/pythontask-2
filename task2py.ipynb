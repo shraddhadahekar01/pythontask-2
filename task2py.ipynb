{
 "cells": [
  {
   "cell_type": "markdown",
   "id": "eca817e2-2b4d-4101-a33e-7d338b054084",
   "metadata": {},
   "source": [
    "# Python String Methods\n"
   ]
  },
  {
   "cell_type": "markdown",
   "id": "18a73b8f-45c2-4da2-ab52-7f82c0146c94",
   "metadata": {},
   "source": [
    "# <u> 1.capitalize()</u>"
   ]
  },
  {
   "cell_type": "markdown",
   "id": "89249ac0-3ecd-4899-ac42-b09ec37b86d1",
   "metadata": {},
   "source": [
    "## The first character is converted to upper case, and the rest are converted to lower case:"
   ]
  },
  {
   "cell_type": "markdown",
   "id": "54311be6-abed-4c54-82e7-329cded445a9",
   "metadata": {},
   "source": [
    "### <u>example1.</u>"
   ]
  },
  {
   "cell_type": "code",
   "execution_count": 23,
   "id": "365cf5da-4737-4abf-8a18-ef01bb33f982",
   "metadata": {},
   "outputs": [
    {
     "name": "stdout",
     "output_type": "stream",
     "text": [
      "Python is interesting!\n"
     ]
    }
   ],
   "source": [
    "\n",
    "text = \"python Is InterestinG!\"\n",
    "example = text.capitalize()\n",
    "print(example)"
   ]
  },
  {
   "cell_type": "markdown",
   "id": "a825ba1f-fee4-4e11-b542-42548a9c5bed",
   "metadata": {},
   "source": [
    "### <u>example2.</u>"
   ]
  },
  {
   "cell_type": "code",
   "execution_count": 27,
   "id": "98416a9a-9b22-41d6-a5fb-38eb62b7f138",
   "metadata": {},
   "outputs": [
    {
     "name": "stdout",
     "output_type": "stream",
     "text": [
      "This is a string method\n"
     ]
    }
   ],
   "source": [
    "example_2 = \"this is a string METHOD\"\n",
    "example = example_2.capitalize()\n",
    "print(example)"
   ]
  },
  {
   "cell_type": "markdown",
   "id": "0f89311f-2471-459a-80ff-8dc5162a9e0f",
   "metadata": {},
   "source": [
    "# <u> 2.casefold()</u>"
   ]
  },
  {
   "cell_type": "markdown",
   "id": "5d9adf3f-73cc-4cbd-9eff-47548f7db085",
   "metadata": {},
   "source": [
    "## The casefold() method returns a string where all the characters are lower case."
   ]
  },
  {
   "cell_type": "markdown",
   "id": "f7ab02d8-28f9-49cc-8417-05040acc4259",
   "metadata": {},
   "source": [
    "### <u>example1.</u>"
   ]
  },
  {
   "cell_type": "code",
   "execution_count": 42,
   "id": "bdde6dcb-b368-4c05-abd0-d8c1434d5514",
   "metadata": {},
   "outputs": [
    {
     "name": "stdout",
     "output_type": "stream",
     "text": [
      "python is interesting!\n"
     ]
    }
   ],
   "source": [
    "text = \"Python Is InterestinG!\"\n",
    "example = text.casefold()\n",
    "print(example)"
   ]
  },
  {
   "cell_type": "markdown",
   "id": "1a4bd55d-3f9f-42f9-aac5-399e5593cfe3",
   "metadata": {},
   "source": [
    "### <u>example2.</u>"
   ]
  },
  {
   "cell_type": "code",
   "execution_count": 47,
   "id": "4b76900c-87ba-4755-a8dc-9f6173b677bf",
   "metadata": {},
   "outputs": [
    {
     "name": "stdout",
     "output_type": "stream",
     "text": [
      "this is a string method\n"
     ]
    }
   ],
   "source": [
    "example_2 = \"This Is a string METHOD\"\n",
    "example = example_2.casefold()\n",
    "print(example)"
   ]
  },
  {
   "cell_type": "markdown",
   "id": "5543847f-75c4-4fa5-96b2-633b1853fd0f",
   "metadata": {},
   "source": [
    "# <u>3.Center()</u>"
   ]
  },
  {
   "cell_type": "markdown",
   "id": "ee17715d-5498-4b3c-b435-50b50aaae86b",
   "metadata": {},
   "source": [
    "## The center() method will center align the string, using a specified character (space is default) as the fill character."
   ]
  },
  {
   "cell_type": "markdown",
   "id": "e3c793f5-d3ad-41fe-b23f-4fffaf26e8b2",
   "metadata": {},
   "source": [
    "### <u>example1.</u>"
   ]
  },
  {
   "cell_type": "code",
   "execution_count": 56,
   "id": "9e677c4e-92f8-4666-a395-340838d1b5b6",
   "metadata": {},
   "outputs": [
    {
     "name": "stdout",
     "output_type": "stream",
     "text": [
      "             This is the fall season              \n"
     ]
    }
   ],
   "source": [
    "example =\"This is the fall season\"\n",
    "text = example.center(50)\n",
    "print(text)"
   ]
  },
  {
   "cell_type": "markdown",
   "id": "f56d584c-7b03-41f7-a24a-5ee5dc8f0c1f",
   "metadata": {},
   "source": [
    "### <u>example2.</u>"
   ]
  },
  {
   "cell_type": "code",
   "execution_count": 59,
   "id": "ac60f0e4-35d6-4738-9066-85499be690f8",
   "metadata": {},
   "outputs": [
    {
     "name": "stdout",
     "output_type": "stream",
     "text": [
      "                      this text is centered                      \n"
     ]
    }
   ],
   "source": [
    "example =\"this text is centered\"\n",
    "text = example.center(65)\n",
    "print(text)"
   ]
  },
  {
   "cell_type": "markdown",
   "id": "7f2fc99b-18c6-48f8-8f11-8271591db84d",
   "metadata": {},
   "source": [
    "# <u> 4.Count</u>"
   ]
  },
  {
   "cell_type": "markdown",
   "id": "6cbaed9d-7adb-4361-a749-bfe60d64c2bb",
   "metadata": {},
   "source": [
    "## The count() method returns the number of times a specified value appears in the string."
   ]
  },
  {
   "cell_type": "markdown",
   "id": "ec58a108-7389-4aff-8804-52abd8dbea4e",
   "metadata": {},
   "source": [
    "### <u> example1.</u>"
   ]
  },
  {
   "cell_type": "code",
   "execution_count": 66,
   "id": "044bf88f-23a1-4c14-9392-94b0b8263f0c",
   "metadata": {},
   "outputs": [
    {
     "name": "stdout",
     "output_type": "stream",
     "text": [
      "2\n"
     ]
    }
   ],
   "source": [
    "text = \"This is string methods, working with string is fun\"\n",
    "example =text.count(\"string\")\n",
    "print(example)"
   ]
  },
  {
   "cell_type": "markdown",
   "id": "c4493634-4533-409c-8fd4-d14d17026f1e",
   "metadata": {},
   "source": [
    " ### <u>example2.</u>"
   ]
  },
  {
   "cell_type": "code",
   "execution_count": 68,
   "id": "28259f16-7019-4837-85b8-52e3924f1d37",
   "metadata": {},
   "outputs": [
    {
     "name": "stdout",
     "output_type": "stream",
     "text": [
      "1\n"
     ]
    }
   ],
   "source": [
    "text = \"it is what it is \"\n",
    "example =text.count(\"what\")\n",
    "print(example)"
   ]
  },
  {
   "cell_type": "markdown",
   "id": "52c6d15e-360d-4d77-94f1-d9748895b25a",
   "metadata": {},
   "source": [
    "# <u>5.encode()</u>"
   ]
  },
  {
   "cell_type": "markdown",
   "id": "43bef1ad-8a5f-4398-8bd6-ef0c438cc2fc",
   "metadata": {},
   "source": [
    "## The encode() method encodes the string, using the specified encoding. If no encoding is specified, UTF-8 will be used."
   ]
  },
  {
   "cell_type": "markdown",
   "id": "b33a5446-af9c-4f24-8855-e47df94bbc85",
   "metadata": {},
   "source": [
    "### <u> example1.</u>"
   ]
  },
  {
   "cell_type": "code",
   "execution_count": 76,
   "id": "75d59846-2f79-4d03-8e03-67ad8ad3df7e",
   "metadata": {},
   "outputs": [
    {
     "name": "stdout",
     "output_type": "stream",
     "text": [
      "b'it is a t\\xc3\\xa5le'\n"
     ]
    }
   ],
   "source": [
    "text = \"it is a tåle\"\n",
    "example=text.encode()\n",
    "print(example)"
   ]
  },
  {
   "cell_type": "markdown",
   "id": "381a15bf-1a1a-4472-b21f-de813296c2ee",
   "metadata": {},
   "source": [
    "### <u> example2.</u>"
   ]
  },
  {
   "cell_type": "code",
   "execution_count": 79,
   "id": "34ef65f5-3f5f-4b0b-a3b1-4045241eb529",
   "metadata": {},
   "outputs": [
    {
     "name": "stdout",
     "output_type": "stream",
     "text": [
      "b'this is \\xc3\\xa5 str\\xc3\\xa5wberry'\n"
     ]
    }
   ],
   "source": [
    "text = \"this is å stråwberry\"\n",
    "example=text.encode()\n",
    "print(example)"
   ]
  },
  {
   "cell_type": "markdown",
   "id": "d4a973a5-02fa-4855-9659-9a3cb359b45a",
   "metadata": {},
   "source": [
    "# <u>6.endswith() </u>"
   ]
  },
  {
   "cell_type": "markdown",
   "id": "ddb09421-a97f-4b85-9970-565a371cae2e",
   "metadata": {},
   "source": [
    "## The endswith() method returns True if the string ends with the specified value, otherwise False."
   ]
  },
  {
   "cell_type": "markdown",
   "id": "0f120daa-bd3b-40b7-b0f5-26161203a34b",
   "metadata": {},
   "source": [
    "### <u>example1.</u>"
   ]
  },
  {
   "cell_type": "code",
   "execution_count": 85,
   "id": "083187a5-4484-4f23-a1de-493e19aca1d9",
   "metadata": {},
   "outputs": [
    {
     "name": "stdout",
     "output_type": "stream",
     "text": [
      "True\n"
     ]
    }
   ],
   "source": [
    "text =\"It is raining!\"\n",
    "example=text.endswith(\"!\")\n",
    "print(example)"
   ]
  },
  {
   "cell_type": "markdown",
   "id": "f57f3ba7-ffc2-40af-a7a3-23ff48aa646b",
   "metadata": {},
   "source": [
    "### <u>example2.</u>"
   ]
  },
  {
   "cell_type": "code",
   "execution_count": 101,
   "id": "4cbae992-0054-40e6-8e36-0dbac0242759",
   "metadata": {},
   "outputs": [
    {
     "name": "stdout",
     "output_type": "stream",
     "text": [
      "True\n"
     ]
    }
   ],
   "source": [
    "text = \"it is cold outside\"\n",
    "example=text.endswith(\"e\")\n",
    "print(example)"
   ]
  },
  {
   "cell_type": "markdown",
   "id": "a8ff02ac-6934-4f64-a520-0e4f0613c294",
   "metadata": {},
   "source": [
    "# 7.<u>Expandtabs()</u>"
   ]
  },
  {
   "cell_type": "markdown",
   "id": "098084a9-fdc7-49a9-aeef-8090c800c6bf",
   "metadata": {},
   "source": [
    "## The expandtabs() method sets the tab size to the specified number of whitespaces."
   ]
  },
  {
   "cell_type": "markdown",
   "id": "92ddebca-064e-4088-9f89-f1caa25da40b",
   "metadata": {},
   "source": [
    "### <u>example1</u>"
   ]
  },
  {
   "cell_type": "code",
   "execution_count": 97,
   "id": "42a4f0ef-1253-4088-adca-ccd3b745cf63",
   "metadata": {},
   "outputs": [
    {
     "name": "stdout",
     "output_type": "stream",
     "text": [
      "p  y  t  h  o  n\n"
     ]
    }
   ],
   "source": [
    "text =\"p\\ty\\tt\\th\\to\\tn\"\n",
    "example=text.expandtabs(3)\n",
    "print(example)"
   ]
  },
  {
   "cell_type": "markdown",
   "id": "bbf9d984-83ce-4e6f-b03f-89ade7d88c8e",
   "metadata": {},
   "source": [
    "### <u>example2</u>"
   ]
  },
  {
   "cell_type": "code",
   "execution_count": 108,
   "id": "9ec28206-1642-40a1-b1ef-a988fe375af6",
   "metadata": {},
   "outputs": [
    {
     "name": "stdout",
     "output_type": "stream",
     "text": [
      "D A 9\n"
     ]
    }
   ],
   "source": [
    "text =\"D\\tA\\t9\"\n",
    "example=text.expandtabs(2)\n",
    "print(example)"
   ]
  },
  {
   "cell_type": "markdown",
   "id": "9bc1b25d-20c4-4547-b5f7-1761d2c6958c",
   "metadata": {},
   "source": [
    "# <u>8.find()</u> "
   ]
  },
  {
   "cell_type": "markdown",
   "id": "453f8f5c-5cb1-4300-917f-b97cac21c824",
   "metadata": {},
   "source": [
    "## The find() method finds the first occurrence of the specified value,method returns -1 if the value is not found."
   ]
  },
  {
   "cell_type": "markdown",
   "id": "2742a32e-d09d-4f76-b166-1f76478dcb7c",
   "metadata": {},
   "source": [
    "### <u>example1.<u/>"
   ]
  },
  {
   "cell_type": "code",
   "execution_count": 115,
   "id": "dd0e6313-ed24-411c-b9ae-fe2a98ebeba3",
   "metadata": {},
   "outputs": [
    {
     "name": "stdout",
     "output_type": "stream",
     "text": [
      "8\n"
     ]
    }
   ],
   "source": [
    "text=\"this is python\"\n",
    "example=text.find(\"python\")\n",
    "print(example)"
   ]
  },
  {
   "cell_type": "markdown",
   "id": "afdfe5f3-56fb-46f0-8975-22cbe18ed26c",
   "metadata": {},
   "source": [
    "### <u>example2.</u>"
   ]
  },
  {
   "cell_type": "code",
   "execution_count": 117,
   "id": "9c269749-b685-456f-a791-cd4449956e30",
   "metadata": {},
   "outputs": [
    {
     "name": "stdout",
     "output_type": "stream",
     "text": [
      "12\n"
     ]
    }
   ],
   "source": [
    "text=\"the weather is sunny\"\n",
    "example=text.find(\"is\")\n",
    "print(example)"
   ]
  },
  {
   "cell_type": "markdown",
   "id": "5d94db5b-069b-41a0-b2a6-a9ddb62825bb",
   "metadata": {},
   "source": [
    "# <u>8.format()</u>"
   ]
  },
  {
   "cell_type": "code",
   "execution_count": null,
   "id": "bdbd15c6-69f1-4e82-8df5-81c8612e90c6",
   "metadata": {},
   "outputs": [],
   "source": [
    "The format() method formats the specified value(s) and insert them inside the string's placeholder."
   ]
  },
  {
   "cell_type": "markdown",
   "id": "715d5d8d-795e-45d5-bc68-1488ccdbe80a",
   "metadata": {},
   "source": [
    "### <u>example1.</u>"
   ]
  },
  {
   "cell_type": "code",
   "execution_count": 119,
   "id": "f6bf3739-c2df-4b6f-a882-fc07f8ca4d77",
   "metadata": {},
   "outputs": [
    {
     "name": "stdout",
     "output_type": "stream",
     "text": [
      "my name is shraddha,i'm 22\n"
     ]
    }
   ],
   "source": [
    "text=\"my name is {fname},i'm {age}\".format(fname=\"shraddha\",age=22)\n",
    "print(text)"
   ]
  },
  {
   "cell_type": "markdown",
   "id": "c10b3bcb-5156-438e-b793-babde3267cf8",
   "metadata": {},
   "source": [
    "### <u>example2.</u>"
   ]
  },
  {
   "cell_type": "code",
   "execution_count": 121,
   "id": "09f7391e-d466-4482-a735-3805f0709340",
   "metadata": {},
   "outputs": [
    {
     "name": "stdout",
     "output_type": "stream",
     "text": [
      "today is sunday\n"
     ]
    }
   ],
   "source": [
    "text=\"today is {day}\".format(day=\"sunday\")\n",
    "print(text)"
   ]
  },
  {
   "cell_type": "markdown",
   "id": "e955eb5f-ec9a-4751-ae9c-1cad75a11b5a",
   "metadata": {},
   "source": [
    "# <u>9.index()</u>"
   ]
  },
  {
   "cell_type": "markdown",
   "id": "0a6dbd2d-2803-4691-9f74-b7632f45bf7b",
   "metadata": {},
   "source": [
    "## The index() method finds the first occurrence of the specified value, raises an exception if the value is not found."
   ]
  },
  {
   "cell_type": "markdown",
   "id": "d93c0caa-b794-4a9d-a16d-801ed4274313",
   "metadata": {},
   "source": [
    "### <u>example1.</u>"
   ]
  },
  {
   "cell_type": "code",
   "execution_count": 123,
   "id": "b5b1f628-3329-4d0c-b7e8-50ce8c959eb1",
   "metadata": {},
   "outputs": [
    {
     "name": "stdout",
     "output_type": "stream",
     "text": [
      "9\n"
     ]
    }
   ],
   "source": [
    "text=\"today is sunday\"\n",
    "example=text.index(\"sunday\")\n",
    "print(example)"
   ]
  },
  {
   "cell_type": "markdown",
   "id": "421efb1d-20c7-400d-b4c0-4298b30cf810",
   "metadata": {},
   "source": [
    "### <u>example2.</u>"
   ]
  },
  {
   "cell_type": "code",
   "execution_count": 125,
   "id": "851d673f-7af3-4c1b-a1f7-cb0bbc04c88f",
   "metadata": {},
   "outputs": [
    {
     "name": "stdout",
     "output_type": "stream",
     "text": [
      "8\n"
     ]
    }
   ],
   "source": [
    "text=\"this is an apple\"\n",
    "example=text.index(\"an\")\n",
    "print(example)"
   ]
  },
  {
   "cell_type": "markdown",
   "id": "ef128b68-470f-473b-8e13-f22c54404ec9",
   "metadata": {},
   "source": [
    "# 10.isalnum()"
   ]
  },
  {
   "cell_type": "markdown",
   "id": "424a56f0-05bf-4026-890d-f684db2e9d0d",
   "metadata": {},
   "source": [
    "## The isalnum() method returns True if all the characters are alphanumeric, meaning alphabet letter (a-z) and numbers (0-9).\n",
    "## Example of characters that are not alphanumeric: (space)!#%&? etc."
   ]
  },
  {
   "cell_type": "markdown",
   "id": "a0079aa2-7929-4396-86bd-b2dc2bd761c5",
   "metadata": {},
   "source": [
    "### <u>example1</u>"
   ]
  },
  {
   "cell_type": "code",
   "execution_count": 8,
   "id": "43f5e718-2b7a-4454-9e1e-7ca950fe7a22",
   "metadata": {},
   "outputs": [
    {
     "name": "stdout",
     "output_type": "stream",
     "text": [
      "False\n"
     ]
    }
   ],
   "source": [
    "text =\"hello 67\"\n",
    "example = text.isalnum()\n",
    "print(example)"
   ]
  },
  {
   "cell_type": "markdown",
   "id": "d2555ca5-31cd-46ea-af4d-d0340187fe1d",
   "metadata": {},
   "source": [
    "### <u>example2</u>"
   ]
  },
  {
   "cell_type": "code",
   "execution_count": 20,
   "id": "19ae06d4-055f-4177-aad2-836753635c9d",
   "metadata": {},
   "outputs": [
    {
     "name": "stdout",
     "output_type": "stream",
     "text": [
      "False\n"
     ]
    }
   ],
   "source": [
    "text =\"###\"\n",
    "example =text.isalnum()\n",
    "print(example)"
   ]
  },
  {
   "cell_type": "markdown",
   "id": "13573798-8067-4f37-8a3f-37105ff7cf37",
   "metadata": {},
   "source": [
    "# 11.isalpha()"
   ]
  },
  {
   "cell_type": "markdown",
   "id": "4f29e990-8a8e-4cfe-9784-929682bba781",
   "metadata": {},
   "source": [
    "## The isalpha() method returns True if all the characters are alphabet letters (a-z)."
   ]
  },
  {
   "cell_type": "markdown",
   "id": "6a650b20-294f-476a-8efb-1b2f6f4f7749",
   "metadata": {},
   "source": [
    "### <u> example1</u>"
   ]
  },
  {
   "cell_type": "code",
   "execution_count": 27,
   "id": "c106609b-ff4c-4055-8e63-8a1ba2c590e6",
   "metadata": {},
   "outputs": [
    {
     "name": "stdout",
     "output_type": "stream",
     "text": [
      "True\n"
     ]
    }
   ],
   "source": [
    "text =\"hello\"\n",
    "example = text.isalpha()\n",
    "print(example)"
   ]
  },
  {
   "cell_type": "markdown",
   "id": "508f3f0d-f494-477c-b85c-6202d2012f44",
   "metadata": {},
   "source": [
    "### <u>example2</u>"
   ]
  },
  {
   "cell_type": "code",
   "execution_count": 30,
   "id": "ef590cca-e10b-454a-8807-afc996c9fe3a",
   "metadata": {},
   "outputs": [
    {
     "name": "stdout",
     "output_type": "stream",
     "text": [
      "False\n"
     ]
    }
   ],
   "source": [
    "text =\"###\"\n",
    "example =text.isalpha()\n",
    "print(example)"
   ]
  },
  {
   "cell_type": "markdown",
   "id": "3ec3134d-415c-41c2-a093-eb86f81f284e",
   "metadata": {},
   "source": [
    "# 12.isascii()"
   ]
  },
  {
   "cell_type": "markdown",
   "id": "4b8677ee-1d0e-4419-9bbd-47941a69d29b",
   "metadata": {},
   "source": [
    "## The isascii() method returns True if all the characters are ascii characters  (a-z)."
   ]
  },
  {
   "cell_type": "markdown",
   "id": "ea3da077-6f8d-4e45-863b-7c1a02249112",
   "metadata": {},
   "source": [
    "### <u>example1</u>"
   ]
  },
  {
   "cell_type": "code",
   "execution_count": 36,
   "id": "5015c9d6-dc80-4441-8cf6-f9c70e9877a6",
   "metadata": {},
   "outputs": [
    {
     "name": "stdout",
     "output_type": "stream",
     "text": [
      "True\n"
     ]
    }
   ],
   "source": [
    "text =\"hello\"\n",
    "example = text.isascii()\n",
    "print(example)"
   ]
  },
  {
   "cell_type": "markdown",
   "id": "6340cf1d-8f61-4f1c-84db-4f9eda03aed1",
   "metadata": {},
   "source": [
    "### <u>example2</u>"
   ]
  },
  {
   "cell_type": "code",
   "execution_count": 39,
   "id": "00450a7a-a263-4d3a-a6b5-d6022f6720a6",
   "metadata": {},
   "outputs": [
    {
     "name": "stdout",
     "output_type": "stream",
     "text": [
      "True\n"
     ]
    }
   ],
   "source": [
    "text =\"###\"\n",
    "example =text.isascii()\n",
    "print(example)"
   ]
  },
  {
   "cell_type": "markdown",
   "id": "d1b73836-56f0-4e61-9784-c182fb76366c",
   "metadata": {},
   "source": [
    "# <u>13.isdecimal()</u>"
   ]
  },
  {
   "cell_type": "markdown",
   "id": "ae39f77e-f033-441b-8d15-f51c66f2b37c",
   "metadata": {},
   "source": [
    "## The isdecimal() method returns True if all the characters are decimals (0-9)."
   ]
  },
  {
   "cell_type": "markdown",
   "id": "b5fab385-28e3-4c5e-980e-8489adba29e0",
   "metadata": {},
   "source": [
    "### <u>example1</u>"
   ]
  },
  {
   "cell_type": "code",
   "execution_count": 44,
   "id": "3ef1e50c-c93a-4de2-85c4-bee4a9fc1f04",
   "metadata": {},
   "outputs": [
    {
     "name": "stdout",
     "output_type": "stream",
     "text": [
      "True\n"
     ]
    }
   ],
   "source": [
    "text =\"123\"\n",
    "example =text.isdecimal()\n",
    "print(example)"
   ]
  },
  {
   "cell_type": "markdown",
   "id": "658e593e-1e87-46fb-b1f5-c806fb8a8220",
   "metadata": {},
   "source": [
    "### <u>example2</u>"
   ]
  },
  {
   "cell_type": "code",
   "execution_count": 48,
   "id": "98dbf2e3-e193-4afe-8ac5-45b6282bdaa1",
   "metadata": {},
   "outputs": [
    {
     "name": "stdout",
     "output_type": "stream",
     "text": [
      "False\n"
     ]
    }
   ],
   "source": [
    "text =\"hello\"\n",
    "example = text.isdecimal()\n",
    "print(example)"
   ]
  },
  {
   "cell_type": "markdown",
   "id": "fa668ae9-079d-4f1d-bd43-68cdb124f6c1",
   "metadata": {},
   "source": [
    "# <u>14.isdigit() </u>"
   ]
  },
  {
   "cell_type": "markdown",
   "id": "458aa5b8-efbf-4fb1-9ff9-c24b0c968352",
   "metadata": {},
   "source": [
    "## The isdigit() method returns True if all the characters are digits, otherwise False."
   ]
  },
  {
   "cell_type": "markdown",
   "id": "af65e575-7f88-48ed-a99d-1317f0133f8d",
   "metadata": {},
   "source": [
    "### <u>example1</u>"
   ]
  },
  {
   "cell_type": "code",
   "execution_count": 53,
   "id": "0a81983f-6157-4203-a01f-a0e5a180e447",
   "metadata": {},
   "outputs": [
    {
     "name": "stdout",
     "output_type": "stream",
     "text": [
      "True\n"
     ]
    }
   ],
   "source": [
    "text =\"123\"\n",
    "example =text.isdigit()\n",
    "print(example)"
   ]
  },
  {
   "cell_type": "markdown",
   "id": "c4addae8-1bc6-4d2a-aaf9-e3875004de94",
   "metadata": {},
   "source": [
    "### <u>example2</u>"
   ]
  },
  {
   "cell_type": "code",
   "execution_count": 56,
   "id": "a5994e71-f29c-4625-8533-092a3e89bef9",
   "metadata": {},
   "outputs": [
    {
     "name": "stdout",
     "output_type": "stream",
     "text": [
      "False\n"
     ]
    }
   ],
   "source": [
    "text =\"hello\"\n",
    "example = text.isdigit()\n",
    "print(example)"
   ]
  },
  {
   "cell_type": "markdown",
   "id": "9ec82823-7184-4a41-b3af-6bae6e61de52",
   "metadata": {},
   "source": [
    "# 15.<u>isidentifier() </u>"
   ]
  },
  {
   "cell_type": "markdown",
   "id": "88861e16-4caa-45ca-ac46-eaf85c90b067",
   "metadata": {},
   "source": [
    "## The isidentifier() method returns True if the string is a valid identifier, otherwise False."
   ]
  },
  {
   "cell_type": "markdown",
   "id": "4a3238de-bd0d-417b-926e-90a080844a27",
   "metadata": {},
   "source": [
    "### <u>example1</u>"
   ]
  },
  {
   "cell_type": "code",
   "execution_count": 61,
   "id": "ff15e69f-df5a-4b90-9501-9aa30efb8464",
   "metadata": {},
   "outputs": [
    {
     "name": "stdout",
     "output_type": "stream",
     "text": [
      "True\n"
     ]
    }
   ],
   "source": [
    "text =\"hello\"\n",
    "example = text.isidentifier()\n",
    "print(example)"
   ]
  },
  {
   "cell_type": "markdown",
   "id": "4923bf26-e98b-40b5-aab5-26e96fb1187b",
   "metadata": {},
   "source": [
    "### <u>example2</u>"
   ]
  },
  {
   "cell_type": "code",
   "execution_count": 63,
   "id": "c155b5b7-ac3f-45ab-b9f1-c0ed637e2c9d",
   "metadata": {},
   "outputs": [
    {
     "name": "stdout",
     "output_type": "stream",
     "text": [
      "False\n"
     ]
    }
   ],
   "source": [
    "text =\"123\"\n",
    "example =text.isidentifier()\n",
    "print(example)"
   ]
  },
  {
   "cell_type": "markdown",
   "id": "c3a6e7b0-9796-47ae-93b8-661b92f7aab6",
   "metadata": {},
   "source": [
    "# <u>16.islower()</u>"
   ]
  },
  {
   "cell_type": "markdown",
   "id": "f15b66a8-2321-4fe8-bca4-e8036897bd8f",
   "metadata": {},
   "source": [
    "## The islower() method returns True if all the characters are in lower case, otherwise False."
   ]
  },
  {
   "cell_type": "markdown",
   "id": "bd31b46f-1b78-4d9a-91fb-25308a0f6088",
   "metadata": {},
   "source": [
    "### <u>example1</u>"
   ]
  },
  {
   "cell_type": "code",
   "execution_count": 5,
   "id": "3fbe50c3-7e4d-4ed7-82a8-7e94c4331c99",
   "metadata": {},
   "outputs": [
    {
     "name": "stdout",
     "output_type": "stream",
     "text": [
      "True\n"
     ]
    }
   ],
   "source": [
    "text = \"hello world!\"\n",
    "\n",
    "example = text.islower()\n",
    "\n",
    "print(example)"
   ]
  },
  {
   "cell_type": "markdown",
   "id": "0d2cfbfa-6622-4cbb-95f1-8a0b050fde69",
   "metadata": {},
   "source": [
    "### <u>example2</u>"
   ]
  },
  {
   "cell_type": "code",
   "execution_count": 10,
   "id": "c8013aef-8ce2-48fe-9ec7-3ecfc21d9967",
   "metadata": {},
   "outputs": [
    {
     "name": "stdout",
     "output_type": "stream",
     "text": [
      "False\n"
     ]
    }
   ],
   "source": [
    "text= \"DA9\"\n",
    "example =text.islower()\n",
    "print(example)"
   ]
  },
  {
   "cell_type": "markdown",
   "id": "d20730d4-8c11-4d38-9d1e-59b1d04539d4",
   "metadata": {},
   "source": [
    "# <u>17.isnumeric() </u>"
   ]
  },
  {
   "cell_type": "markdown",
   "id": "018edf2a-2088-4026-86a8-3d118e6306da",
   "metadata": {},
   "source": [
    "## The isnumeric() method returns True if all the characters are numeric (0-9), otherwise False.\n",
    "## Exponents, like ² and ¾ are also considered to be numeric values."
   ]
  },
  {
   "cell_type": "markdown",
   "id": "7c622066-abcb-4e46-8cbb-a05bc459637a",
   "metadata": {},
   "source": [
    "### <u>example1</u>"
   ]
  },
  {
   "cell_type": "code",
   "execution_count": 19,
   "id": "0f0ec3ca-4dc2-4461-8ed8-cd8db6d088d8",
   "metadata": {},
   "outputs": [
    {
     "name": "stdout",
     "output_type": "stream",
     "text": [
      "True\n"
     ]
    }
   ],
   "source": [
    "text=\"1234\"\n",
    "example=text.isnumeric()\n",
    "print(example)"
   ]
  },
  {
   "cell_type": "markdown",
   "id": "b25d6736-7220-453a-b02f-9c7c5c129729",
   "metadata": {},
   "source": [
    "### <u>example2</u>"
   ]
  },
  {
   "cell_type": "code",
   "execution_count": 21,
   "id": "b3354e60-5143-43ab-b938-5e40f40dbf68",
   "metadata": {},
   "outputs": [
    {
     "name": "stdout",
     "output_type": "stream",
     "text": [
      "False\n"
     ]
    }
   ],
   "source": [
    "text=\"hello\"\n",
    "example=text.isnumeric()\n",
    "print(example)"
   ]
  },
  {
   "cell_type": "markdown",
   "id": "3dc80d23-87c8-441b-8887-9714a5a49881",
   "metadata": {},
   "source": [
    "# <u>18.isprintable()</u>"
   ]
  },
  {
   "cell_type": "markdown",
   "id": "9a30283c-bba4-4929-aca2-4cf7844da660",
   "metadata": {},
   "source": [
    "## The isprintable() method returns True if all the characters are printable, otherwise False."
   ]
  },
  {
   "cell_type": "markdown",
   "id": "dfaac5f6-35dc-4768-bc4a-722c79e3cdb8",
   "metadata": {},
   "source": [
    "### <u>example1</u>"
   ]
  },
  {
   "cell_type": "code",
   "execution_count": 1,
   "id": "b630d757-534c-48ce-a677-fc3af22fc426",
   "metadata": {},
   "outputs": [
    {
     "name": "stdout",
     "output_type": "stream",
     "text": [
      "True\n"
     ]
    }
   ],
   "source": [
    "txt = \"Hello! Are you #1?\"\n",
    "\n",
    "x = txt.isprintable()\n",
    "\n",
    "print(x)"
   ]
  },
  {
   "cell_type": "markdown",
   "id": "8cef2977-c644-486f-8876-1121773d7405",
   "metadata": {},
   "source": [
    "### <u>example2</u>"
   ]
  },
  {
   "cell_type": "code",
   "execution_count": 5,
   "id": "253238a0-afeb-4bb4-81a5-0851894dde35",
   "metadata": {},
   "outputs": [
    {
     "name": "stdout",
     "output_type": "stream",
     "text": [
      "True\n"
     ]
    }
   ],
   "source": [
    "txt = \"Hello!\"\n",
    "\n",
    "x = txt.isprintable()\n",
    "\n",
    "print(x)"
   ]
  },
  {
   "cell_type": "markdown",
   "id": "153a4fc7-e6e2-4b8c-a5e4-d0e46ff3fbb8",
   "metadata": {},
   "source": [
    "# <u>19.isspace() </u>"
   ]
  },
  {
   "cell_type": "markdown",
   "id": "3da9df87-7e1d-4802-93a1-4d1564b3b8b3",
   "metadata": {},
   "source": [
    "## The isspace() method returns True if all the characters in a string are whitespaces, otherwise False.\n",
    "\n"
   ]
  },
  {
   "cell_type": "markdown",
   "id": "45a2f2a7-cb50-4eec-b2fa-a547f294f8ee",
   "metadata": {},
   "source": [
    "### <u>example1.</u>"
   ]
  },
  {
   "cell_type": "code",
   "execution_count": 13,
   "id": "b2b868d1-fc58-46ab-bcf5-8134bfa04fac",
   "metadata": {},
   "outputs": [
    {
     "name": "stdout",
     "output_type": "stream",
     "text": [
      "False\n"
     ]
    }
   ],
   "source": [
    "text = \"   s   \"\n",
    "\n",
    "example = txt.isspace()\n",
    "\n",
    "print(example)"
   ]
  },
  {
   "cell_type": "markdown",
   "id": "be8a904d-ea3f-40cb-99a0-9ed38f8a4dd5",
   "metadata": {},
   "source": [
    "### <u>example2.</u>"
   ]
  },
  {
   "cell_type": "code",
   "execution_count": 23,
   "id": "df393a7c-5d18-44a2-bf63-38e9f6f244bd",
   "metadata": {},
   "outputs": [
    {
     "name": "stdout",
     "output_type": "stream",
     "text": [
      "False\n"
     ]
    }
   ],
   "source": [
    "text = \"pqrs\"\n",
    "\n",
    "example = txt.isspace()\n",
    "\n",
    "print(example)"
   ]
  },
  {
   "cell_type": "markdown",
   "id": "a3528615-dffc-40a9-8b7c-51afbf3120d5",
   "metadata": {},
   "source": [
    "# <u>20.istitle()</u>"
   ]
  },
  {
   "cell_type": "markdown",
   "id": "21a76a87-3581-4b16-ae81-d73c986e3aa1",
   "metadata": {},
   "source": [
    "## The istitle() method returns True if all words in a text start with a upper case letter, AND the rest of the word are lower case letters, otherwise False."
   ]
  },
  {
   "cell_type": "markdown",
   "id": "36a2cf15-bd48-4b05-80a4-d73a458d4c26",
   "metadata": {},
   "source": [
    "### <u>example1.</u>"
   ]
  },
  {
   "cell_type": "code",
   "execution_count": 32,
   "id": "45aba928-4421-4388-ad6f-f5669cc62920",
   "metadata": {},
   "outputs": [
    {
     "name": "stdout",
     "output_type": "stream",
     "text": [
      "False\n"
     ]
    }
   ],
   "source": [
    "text =\"It is raining!\"\n",
    "example=text.istitle()\n",
    "print(example)"
   ]
  },
  {
   "cell_type": "markdown",
   "id": "7a6bc3a0-3633-46b1-bef6-be0e278fc054",
   "metadata": {},
   "source": [
    "### <u>example2.</u>"
   ]
  },
  {
   "cell_type": "code",
   "execution_count": 36,
   "id": "3c99d837-5cd4-40be-8cf0-594e83f7db42",
   "metadata": {},
   "outputs": [
    {
     "name": "stdout",
     "output_type": "stream",
     "text": [
      "True\n"
     ]
    }
   ],
   "source": [
    "text =\"Hello World!\"\n",
    "example=text.istitle()\n",
    "print(example)"
   ]
  },
  {
   "cell_type": "markdown",
   "id": "6df8c98d-fd10-4ff4-b297-8c4225252ff3",
   "metadata": {},
   "source": [
    "# <u>21.isupper()</u>"
   ]
  },
  {
   "cell_type": "markdown",
   "id": "5e212a70-28b0-4c0c-809f-a62547c6fb09",
   "metadata": {},
   "source": [
    "## The isupper() method returns True if all the characters are in upper case, otherwise False.\n",
    "## Numbers, symbols and spaces are not checked, only alphabet characters."
   ]
  },
  {
   "cell_type": "markdown",
   "id": "047d68fe-718c-4fee-9be8-0762bd7f0fa5",
   "metadata": {},
   "source": [
    "### <u>example1.</u>"
   ]
  },
  {
   "cell_type": "code",
   "execution_count": 43,
   "id": "e141ff68-c4d5-41f0-b165-6a90ec481d38",
   "metadata": {},
   "outputs": [
    {
     "name": "stdout",
     "output_type": "stream",
     "text": [
      "True\n"
     ]
    }
   ],
   "source": [
    "text = \"ARC DA9!\"\n",
    "\n",
    "example = text.isupper()\n",
    "\n",
    "print(example)"
   ]
  },
  {
   "cell_type": "markdown",
   "id": "f3b8fff3-2c4f-4d9d-b6b9-6e0160b4cfcf",
   "metadata": {},
   "source": [
    "### <u>example2.</u>"
   ]
  },
  {
   "cell_type": "code",
   "execution_count": 46,
   "id": "e722928a-69d0-4d11-baa1-7f31e3543cf2",
   "metadata": {},
   "outputs": [
    {
     "name": "stdout",
     "output_type": "stream",
     "text": [
      "False\n"
     ]
    }
   ],
   "source": [
    "text = \"Hello!\"\n",
    "\n",
    "example = text.isupper()\n",
    "\n",
    "print(example)"
   ]
  },
  {
   "cell_type": "markdown",
   "id": "3b92c04c-4b1e-44d6-8ae9-bc02642f93f1",
   "metadata": {},
   "source": [
    "# <u>22.join()</u>"
   ]
  },
  {
   "cell_type": "markdown",
   "id": "e4e96863-b840-404a-b905-36f7139c63f5",
   "metadata": {},
   "source": [
    "## The join() method takes all items in an iterable and joins them into one string."
   ]
  },
  {
   "cell_type": "markdown",
   "id": "a5bf7d0d-4996-4528-bc3e-0a90691b2408",
   "metadata": {},
   "source": [
    "### <u>example1.</u>"
   ]
  },
  {
   "cell_type": "code",
   "execution_count": 48,
   "id": "5fce9bbe-05ce-4f84-a721-c2cb50f00cc1",
   "metadata": {},
   "outputs": [
    {
     "name": "stdout",
     "output_type": "stream",
     "text": [
      "Amazing#game#football\n"
     ]
    }
   ],
   "source": [
    "myTuple = (\"Amazing\", \"game\", \"football\")\n",
    "\n",
    "x = \"#\".join(myTuple)\n",
    "\n",
    "print(x)\n"
   ]
  },
  {
   "cell_type": "markdown",
   "id": "c456327c-3264-4abb-936d-70c8de025efa",
   "metadata": {},
   "source": [
    "### <u>example2.</u>"
   ]
  },
  {
   "cell_type": "code",
   "execution_count": 50,
   "id": "0a78e778-87b3-43ae-b044-ff7d45add6c9",
   "metadata": {},
   "outputs": [
    {
     "name": "stdout",
     "output_type": "stream",
     "text": [
      "It_is_sunny\n"
     ]
    }
   ],
   "source": [
    "myTuple = (\"It\", \"is\", \"sunny\")\n",
    "\n",
    "x = \"_\".join(myTuple)\n",
    "\n",
    "print(x)"
   ]
  },
  {
   "cell_type": "markdown",
   "id": "cdbd801e-95d6-4790-a0c3-a0fbf959f15c",
   "metadata": {},
   "source": [
    "# <u> 23.ljust()</u>"
   ]
  },
  {
   "cell_type": "markdown",
   "id": "c7e098a2-2c12-451a-b087-e1c74bb51cbd",
   "metadata": {},
   "source": [
    "## The ljust() method will left align the string, using a specified character (space is default) as the fill character."
   ]
  },
  {
   "cell_type": "markdown",
   "id": "9fc142ab-26fd-461f-a679-415c763e22c2",
   "metadata": {},
   "source": [
    "### <u>example1.</u>"
   ]
  },
  {
   "cell_type": "code",
   "execution_count": 54,
   "id": "c7b15daa-db46-4ec3-81e8-100a8e0920cc",
   "metadata": {},
   "outputs": [
    {
     "name": "stdout",
     "output_type": "stream",
     "text": [
      "strawberry           is my favorite fruit.\n"
     ]
    }
   ],
   "source": [
    "txt = \"strawberry\"\n",
    "\n",
    "x = txt.ljust(20)\n",
    "\n",
    "print(x, \"is my favorite fruit.\")"
   ]
  },
  {
   "cell_type": "markdown",
   "id": "64af65bb-1c98-498f-b1c6-fcd0cf04bf7a",
   "metadata": {},
   "source": [
    "### <u>example2.</u>"
   ]
  },
  {
   "cell_type": "code",
   "execution_count": 58,
   "id": "e884cba1-1f21-446f-9896-1f38236c0cde",
   "metadata": {},
   "outputs": [
    {
     "name": "stdout",
     "output_type": "stream",
     "text": [
      "cricket                        is my favorite sports.\n"
     ]
    }
   ],
   "source": [
    "txt = \"cricket\"\n",
    "\n",
    "x = txt.ljust(30)\n",
    "\n",
    "print(x, \"is my favorite sports.\")"
   ]
  },
  {
   "cell_type": "markdown",
   "id": "a5c2281a-df06-440b-9e89-c439089f034a",
   "metadata": {},
   "source": [
    "# <u> 24.lstrip() </u>"
   ]
  },
  {
   "cell_type": "markdown",
   "id": "e84065bc-17c1-4d23-b80c-db33da3c0d3a",
   "metadata": {},
   "source": [
    "## The lstrip() method removes any leading characters (space is the default leading character to remove)"
   ]
  },
  {
   "cell_type": "markdown",
   "id": "16ecabdd-3e4c-4109-816b-6c8edbcc5ea4",
   "metadata": {},
   "source": [
    "### <u>example1.</u>"
   ]
  },
  {
   "cell_type": "code",
   "execution_count": 60,
   "id": "e09a3a97-22c7-4802-9636-54f44e92c4d0",
   "metadata": {},
   "outputs": [
    {
     "name": "stdout",
     "output_type": "stream",
     "text": [
      "of all fruits banana      is my favorite\n"
     ]
    }
   ],
   "source": [
    "txt = \"     banana     \"\n",
    "\n",
    "x = txt.lstrip()\n",
    "\n",
    "print(\"of all fruits\", x, \"is my favorite\")"
   ]
  },
  {
   "cell_type": "markdown",
   "id": "b9bb4d3d-d628-45d4-8edd-7f3aa73722fd",
   "metadata": {},
   "source": [
    "### <u>example2.</u>"
   ]
  },
  {
   "cell_type": "code",
   "execution_count": 62,
   "id": "4b0789d9-079b-4e3a-a5d5-ccfd3c887bb4",
   "metadata": {},
   "outputs": [
    {
     "name": "stdout",
     "output_type": "stream",
     "text": [
      "of all sports cricket      is my favorite\n"
     ]
    }
   ],
   "source": [
    "txt = \"  cricket     \"\n",
    "\n",
    "x = txt.lstrip()\n",
    "\n",
    "print(\"of all sports\", x, \"is my favorite\")"
   ]
  },
  {
   "cell_type": "markdown",
   "id": "064d41e7-662d-458f-9d95-233ce68a0958",
   "metadata": {},
   "source": [
    "# 25.<u>replace()</u>"
   ]
  },
  {
   "cell_type": "markdown",
   "id": "3c0499f4-c9ec-4472-a2d6-9e991a2c77ff",
   "metadata": {},
   "source": [
    "## The replace() method replaces a specified phrase with another specified phrase."
   ]
  },
  {
   "cell_type": "markdown",
   "id": "985edc5b-00b6-4ac0-922f-372ab701ac3a",
   "metadata": {},
   "source": [
    "### <u>example1.</u>"
   ]
  },
  {
   "cell_type": "code",
   "execution_count": 78,
   "id": "6b74edc8-1625-4499-b7b0-02351ef4c360",
   "metadata": {},
   "outputs": [
    {
     "name": "stdout",
     "output_type": "stream",
     "text": [
      "I like apples\n"
     ]
    }
   ],
   "source": [
    "txt = \"I like bananas\"\n",
    "\n",
    "x = txt.replace(\"bananas\", \"apples\")\n",
    "\n",
    "print(x)"
   ]
  },
  {
   "cell_type": "markdown",
   "id": "165f4477-b3ac-46ce-a7c6-cad5177a14de",
   "metadata": {},
   "source": [
    "### <u>example2.</u>"
   ]
  },
  {
   "cell_type": "code",
   "execution_count": 85,
   "id": "b0af378f-2be5-4bb6-8a21-ca791e3370dd",
   "metadata": {},
   "outputs": [
    {
     "name": "stdout",
     "output_type": "stream",
     "text": [
      "I like basketball\n"
     ]
    }
   ],
   "source": [
    "txt = \"I like cricket\"\n",
    "\n",
    "x = txt.replace(\"cricket\", \"basketball\")\n",
    "\n",
    "print(x)"
   ]
  },
  {
   "cell_type": "markdown",
   "id": "3a8de678-5b1b-4d45-bd38-3249660c87a7",
   "metadata": {},
   "source": [
    "# <u>26.rfind() </u>"
   ]
  },
  {
   "cell_type": "markdown",
   "id": "137e6adf-526a-46f4-8ead-f4081c3df6cb",
   "metadata": {},
   "source": [
    "## The rfind() method finds the last occurrence of the specified value."
   ]
  },
  {
   "cell_type": "markdown",
   "id": "6e2ea1a2-b5d4-4d25-8ea1-82bae70e51a2",
   "metadata": {},
   "source": [
    "### <u>example1.</u>"
   ]
  },
  {
   "cell_type": "code",
   "execution_count": 92,
   "id": "8bb4f959-67f3-4909-9073-c34f855c5966",
   "metadata": {},
   "outputs": [
    {
     "name": "stdout",
     "output_type": "stream",
     "text": [
      "23\n"
     ]
    }
   ],
   "source": [
    "txt = \"I am a doctor, a heart doctor\"\n",
    "\n",
    "x = txt.rfind(\"doctor\")\n",
    "\n",
    "print(x)"
   ]
  },
  {
   "cell_type": "markdown",
   "id": "bdb68883-3409-4b5a-82be-4e515eccc4e2",
   "metadata": {},
   "source": [
    "### <u>example2.</u>"
   ]
  },
  {
   "cell_type": "code",
   "execution_count": 94,
   "id": "485ec9c4-4bdb-4368-9547-2f9063703f19",
   "metadata": {},
   "outputs": [
    {
     "name": "stdout",
     "output_type": "stream",
     "text": [
      "12\n"
     ]
    }
   ],
   "source": [
    "txt = \"Mi casa, su casa.\"\n",
    "\n",
    "x = txt.rfind(\"casa\")\n",
    "\n",
    "print(x)"
   ]
  },
  {
   "cell_type": "markdown",
   "id": "8f937c5c-78b6-4de0-93ed-36cd70ba10a0",
   "metadata": {},
   "source": [
    "# <u>27.rstrip() </u>"
   ]
  },
  {
   "cell_type": "markdown",
   "id": "3ce0300d-9f60-4064-8425-eaca5832d681",
   "metadata": {},
   "source": [
    "## The rstrip() method removes any trailing characters (characters at the end a string), space is the default trailing character to remove."
   ]
  },
  {
   "cell_type": "markdown",
   "id": "57436add-bd61-4430-ab49-107431bed0d1",
   "metadata": {},
   "source": [
    "### <u>example1.</u>"
   ]
  },
  {
   "cell_type": "code",
   "execution_count": 101,
   "id": "86f53c13-e673-4248-8f56-2789c2ff178c",
   "metadata": {},
   "outputs": [
    {
     "name": "stdout",
     "output_type": "stream",
     "text": [
      "of all fruits      banana is my favorite\n"
     ]
    }
   ],
   "source": [
    "txt = \"     banana     \"\n",
    "\n",
    "x = txt.rstrip()\n",
    "\n",
    "print(\"of all fruits\", x, \"is my favorite\")"
   ]
  },
  {
   "cell_type": "markdown",
   "id": "c6933417-7693-41d9-8c10-28f5e66f26a7",
   "metadata": {},
   "source": [
    "### <u>example2.</u>"
   ]
  },
  {
   "cell_type": "code",
   "execution_count": 103,
   "id": "5dc21aba-ea44-49bd-ae45-973dcd6006b9",
   "metadata": {},
   "outputs": [
    {
     "name": "stdout",
     "output_type": "stream",
     "text": [
      "I live in      nagpur city\n"
     ]
    }
   ],
   "source": [
    "txt = \"     nagpur     \"\n",
    "\n",
    "x = txt.rstrip()\n",
    "\n",
    "print(\"I live in\", x, \"city\")"
   ]
  },
  {
   "cell_type": "code",
   "execution_count": null,
   "id": "032565ec-7797-4e0d-89de-bdc3d34a0e03",
   "metadata": {},
   "outputs": [],
   "source": []
  }
 ],
 "metadata": {
  "kernelspec": {
   "display_name": "Python 3 (ipykernel)",
   "language": "python",
   "name": "python3"
  },
  "language_info": {
   "codemirror_mode": {
    "name": "ipython",
    "version": 3
   },
   "file_extension": ".py",
   "mimetype": "text/x-python",
   "name": "python",
   "nbconvert_exporter": "python",
   "pygments_lexer": "ipython3",
   "version": "3.12.4"
  }
 },
 "nbformat": 4,
 "nbformat_minor": 5
}
